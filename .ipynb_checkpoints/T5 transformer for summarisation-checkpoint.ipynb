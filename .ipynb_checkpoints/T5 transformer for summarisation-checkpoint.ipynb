{
 "cells": [
  {
   "cell_type": "code",
   "execution_count": 138,
   "metadata": {},
   "outputs": [],
   "source": [
    "import pandas as pd\n",
    "import torch\n",
    "from transformers import T5ForConditionalGeneration,T5Tokenizer,T5Config\n",
    "import warnings\n",
    "warnings.filterwarnings(action='ignore')"
   ]
  },
  {
   "cell_type": "code",
   "execution_count": 93,
   "metadata": {},
   "outputs": [
    {
     "data": {
      "text/html": [
       "<div>\n",
       "<style scoped>\n",
       "    .dataframe tbody tr th:only-of-type {\n",
       "        vertical-align: middle;\n",
       "    }\n",
       "\n",
       "    .dataframe tbody tr th {\n",
       "        vertical-align: top;\n",
       "    }\n",
       "\n",
       "    .dataframe thead th {\n",
       "        text-align: right;\n",
       "    }\n",
       "</style>\n",
       "<table border=\"1\" class=\"dataframe\">\n",
       "  <thead>\n",
       "    <tr style=\"text-align: right;\">\n",
       "      <th></th>\n",
       "      <th>Intoduction</th>\n",
       "    </tr>\n",
       "  </thead>\n",
       "  <tbody>\n",
       "    <tr>\n",
       "      <th>0</th>\n",
       "      <td>Acnesol Gel is an antibiotic that fights bacte...</td>\n",
       "    </tr>\n",
       "    <tr>\n",
       "      <th>1</th>\n",
       "      <td>Ambrodil Syrup is used for treating various re...</td>\n",
       "    </tr>\n",
       "    <tr>\n",
       "      <th>2</th>\n",
       "      <td>Augmentin 625 Duo Tablet is a penicillin-type ...</td>\n",
       "    </tr>\n",
       "    <tr>\n",
       "      <th>3</th>\n",
       "      <td>Azithral 500 Tablet is an antibiotic used to t...</td>\n",
       "    </tr>\n",
       "    <tr>\n",
       "      <th>4</th>\n",
       "      <td>Alkasol Oral Solution is a medicine used in th...</td>\n",
       "    </tr>\n",
       "  </tbody>\n",
       "</table>\n",
       "</div>"
      ],
      "text/plain": [
       "                                         Intoduction\n",
       "0  Acnesol Gel is an antibiotic that fights bacte...\n",
       "1  Ambrodil Syrup is used for treating various re...\n",
       "2  Augmentin 625 Duo Tablet is a penicillin-type ...\n",
       "3  Azithral 500 Tablet is an antibiotic used to t...\n",
       "4  Alkasol Oral Solution is a medicine used in th..."
      ]
     },
     "execution_count": 93,
     "metadata": {},
     "output_type": "execute_result"
    }
   ],
   "source": [
    "data = pd.read_excel('TASK.xlsx').drop('Unnamed: 0',axis = 1)\n",
    "data.head()"
   ]
  },
  {
   "cell_type": "code",
   "execution_count": 95,
   "metadata": {},
   "outputs": [
    {
     "data": {
      "text/plain": [
       "'Acnesol Gel is an antibiotic that fights bacteria. It is used to treat acne, which appears as spots or pimples on your face, chest or back. This medicine works by attacking the bacteria that cause these pimples.Acnesol Gel is only meant for external use and should be used as advised by your doctor. You should normally wash and dry the affected area before applying a thin layer of the medicine. It should not be applied to broken or damaged skin. Avoid any contact with your eyes, nose, or mouth. Rinse it off with water if you accidentally get it in these areas. It may take several weeks for your symptoms to improve, but you should keep using this medicine regularly. Do not stop using it as soon as your acne starts to get better. Ask your doctor when you should stop treatment.Common side effects like minor itching, burning, or redness of the skin and oily skin may be seen in some people. These are usually temporary and resolve on their own. Consult your doctor if they bother you or do not go away.It is a safe medicine, but you should inform your doctor if you have any problems with your bowels (intestines). Also, inform the doctor if you have ever had bloody diarrhea caused by taking antibiotics or if you are using any other medicines to treat skin conditions. Consult your doctor about using this medicine if you are pregnant or breastfeeding.'"
      ]
     },
     "execution_count": 95,
     "metadata": {},
     "output_type": "execute_result"
    }
   ],
   "source": [
    "text = data.iloc[0].values[0]\n",
    "text"
   ]
  },
  {
   "cell_type": "markdown",
   "metadata": {},
   "source": [
    "<b>I will be using a pre-trained T5 Transformer from the Hugging Face library to get the sumaries of the given text."
   ]
  },
  {
   "cell_type": "markdown",
   "metadata": {},
   "source": [
    "### Loading the Model"
   ]
  },
  {
   "cell_type": "code",
   "execution_count": 96,
   "metadata": {},
   "outputs": [],
   "source": [
    "device = 'cuda' # we`ll be doing the predictions of GPU\n",
    "model = T5ForConditionalGeneration().from_pretrained('t5-small').to(device) # loading pretrained model\n",
    "tokenizer = T5Tokenizer.from_pretrained('t5-small') # loading pre trained tokenizer"
   ]
  },
  {
   "cell_type": "markdown",
   "metadata": {},
   "source": [
    "### Creating a function that loops through the given texts and summarizes them"
   ]
  },
  {
   "cell_type": "code",
   "execution_count": 141,
   "metadata": {},
   "outputs": [],
   "source": [
    "def get_summary(text_data,max_seq_len = 100):\n",
    "    ''' Takes in n the text data and outputs the summaries.\n",
    "    \n",
    "        max_seq_len = the maximum sequence length that we wish our summary to have. Can be used to control the size of summary default = 100'''\n",
    "    \n",
    "    summaries = [] # empty list to hold all of our summaries\n",
    "    for text in text_data:\n",
    "        \n",
    "        preprocess_text = text.strip().replace(\"\\n\",\"\") # removing any extra spaces or line breaks present\n",
    "        t5_prepared_Text = \"summarize: \"+preprocess_text # prepending 'summarize' to the text as guided in the T5 research paper\n",
    "        tokenized_text = tokenizer.encode(t5_prepared_Text, return_tensors=\"pt\",max_length=512).to(device) # tokenizing\n",
    "                # max_length here is 512 as that is the maximum lenght t5 can handle so if out text tokens have greater max len than 512\n",
    "        # it is truncated\n",
    "        \n",
    "    \n",
    "        summary_ids = model.generate(tokenized_text,\n",
    "                                    num_beams=4, # number of beams in beam search\n",
    "                                    max_length = max_seq_len, # max length of the sequence\n",
    "                                    early_stopping=True) # stops beam search when number sentences equal to num_beams have finnished\n",
    "        output = tokenizer.decode(summary_ids[0], skip_special_tokens=True) # decoding the tokens to text\n",
    "        # the size of summary_ids size [1,seq_len] so we do summary_ids[0] to get shape of [seq_len] \n",
    "        \n",
    "        summaries.append(output) # append to list created \n",
    "    return summaries"
   ]
  },
  {
   "cell_type": "code",
   "execution_count": 142,
   "metadata": {},
   "outputs": [],
   "source": [
    "summaries = get_summary(data.Intoduction,max_seq_len=100)\n",
    "data['Summary'] = summaries"
   ]
  },
  {
   "cell_type": "code",
   "execution_count": 144,
   "metadata": {},
   "outputs": [
    {
     "name": "stdout",
     "output_type": "stream",
     "text": [
      "Original:  Allegra 120mg Tablet belongs to a group of medicines called antihistamines. It is used to treat various allergic conditions such as hay fever, conjunctivitis and some skin reactions such as eczema, hives and reactions to bites and stings. It also relieves watery eyes, runny nose, sneezing, and itching.Allegra 120mg Tablet should be taken on an empty stomach. The dose may vary depending on what you are taking it for. Take it as prescribed by your doctor. You may need this medicine only on days you have the symptoms, or you may need to take it every day to prevent the symptoms from happening. If you stop taking it earlier than advised, your symptoms may come back.This medicine is generally very safe. The most common side effects include headache, drowsiness, dizziness, and nausea. These are usually mild and go away after a couple of days as your body adjusts. Consult your doctor if any of the side effects persist or worry you.Before taking it, tell your doctor if you have any problems with your liver or kidneys or with your heart as antihistamines can cause your heart to beat faster. Pregnant or breastfeeding women should also consult with their doctor before taking it. Avoid drinking alcohol as it can cause excessive drowsiness with this medicine. It usually does not impair your ability to drive, but you should not drive if it makes you feel sleepy or dizzy. \n",
      "\n",
      "Summary:  Allegra 120mg Tablet belongs to a group of medicines called antihistamines. it is used to treat various allergic conditions such as hay fever, conjunctivitis and skin reactions. it relieves watery eyes, runny nose, sneezing, and itching.\n"
     ]
    }
   ],
   "source": [
    "i = 5\n",
    "print('Original: ',data['Intoduction'][i],'\\n')\n",
    "print('Summary: ',data['Summary'][i])"
   ]
  }
 ],
 "metadata": {
  "kernelspec": {
   "display_name": "Python 3",
   "language": "python",
   "name": "python3"
  },
  "language_info": {
   "codemirror_mode": {
    "name": "ipython",
    "version": 3
   },
   "file_extension": ".py",
   "mimetype": "text/x-python",
   "name": "python",
   "nbconvert_exporter": "python",
   "pygments_lexer": "ipython3",
   "version": "3.6.5"
  }
 },
 "nbformat": 4,
 "nbformat_minor": 2
}
